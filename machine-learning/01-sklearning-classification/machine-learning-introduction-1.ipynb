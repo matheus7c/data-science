{
 "cells": [
  {
   "cell_type": "code",
   "execution_count": 43,
   "id": "b1eac5a3",
   "metadata": {},
   "outputs": [],
   "source": [
    "# features (1 sim, 0 não)\n",
    "# pelo longo? \n",
    "# perna curta?\n",
    "# faz auau?"
   ]
  },
  {
   "cell_type": "code",
   "execution_count": 44,
   "id": "65e1b49a",
   "metadata": {},
   "outputs": [],
   "source": [
    "porco1 = [0, 1, 0]\n",
    "porco2 = [0, 1, 1]\n",
    "porco3 = [1, 1, 0]"
   ]
  },
  {
   "cell_type": "code",
   "execution_count": 45,
   "id": "7b47b73f",
   "metadata": {},
   "outputs": [],
   "source": [
    "cachorro1 = [0, 1, 1]\n",
    "cachorro2 = [1, 0, 1]\n",
    "cachorro3 = [1, 1, 1]"
   ]
  },
  {
   "cell_type": "code",
   "execution_count": 46,
   "id": "d9a72652",
   "metadata": {},
   "outputs": [],
   "source": [
    "# 1 => porco, 0 => cachorro\n",
    "treino_x = [porco1, porco2, porco3, cachorro1, cachorro2, cachorro3]\n",
    "treino_y = [1,1,1,0,0,0]"
   ]
  },
  {
   "cell_type": "code",
   "execution_count": 47,
   "id": "165d8023",
   "metadata": {},
   "outputs": [
    {
     "data": {
      "text/plain": [
       "LinearSVC()"
      ]
     },
     "execution_count": 47,
     "metadata": {},
     "output_type": "execute_result"
    }
   ],
   "source": [
    "from sklearn.svm import LinearSVC\n",
    "\n",
    "model = LinearSVC()\n",
    "model.fit(treino_x, treino_y)"
   ]
  },
  {
   "cell_type": "code",
   "execution_count": 48,
   "id": "6f46fe8f",
   "metadata": {},
   "outputs": [
    {
     "data": {
      "text/plain": [
       "array([0])"
      ]
     },
     "execution_count": 48,
     "metadata": {},
     "output_type": "execute_result"
    }
   ],
   "source": [
    "animal_misterioso = [1, 1, 1]\n",
    "model.predict([animal_misterioso])"
   ]
  },
  {
   "cell_type": "code",
   "execution_count": 49,
   "id": "a1433abf",
   "metadata": {},
   "outputs": [],
   "source": [
    "misterio1 = [1,1,1]\n",
    "misterio2 = [1,1,0]\n",
    "misterio3 = [0,1,1]\n",
    "\n",
    "teste_x = [misterio1, misterio2, misterio3]\n",
    "teste_y = [0, 1, 1]\n"
   ]
  },
  {
   "cell_type": "code",
   "execution_count": 50,
   "id": "09e530f5",
   "metadata": {},
   "outputs": [
    {
     "data": {
      "text/plain": [
       "array([0, 1, 0])"
      ]
     },
     "execution_count": 50,
     "metadata": {},
     "output_type": "execute_result"
    }
   ],
   "source": [
    "previsoes = model.predict(teste_x)\n",
    "previsoes"
   ]
  },
  {
   "cell_type": "code",
   "execution_count": 51,
   "id": "d6bb8898",
   "metadata": {},
   "outputs": [
    {
     "data": {
      "text/plain": [
       "array([ True,  True, False])"
      ]
     },
     "execution_count": 51,
     "metadata": {},
     "output_type": "execute_result"
    }
   ],
   "source": [
    "previsoes == teste_y"
   ]
  },
  {
   "cell_type": "code",
   "execution_count": 52,
   "id": "880c1f25",
   "metadata": {},
   "outputs": [
    {
     "data": {
      "text/plain": [
       "2"
      ]
     },
     "execution_count": 52,
     "metadata": {},
     "output_type": "execute_result"
    }
   ],
   "source": [
    "corretos = (previsoes == teste_y).sum()\n",
    "corretos"
   ]
  },
  {
   "cell_type": "code",
   "execution_count": 56,
   "id": "a5cd7c6f",
   "metadata": {},
   "outputs": [
    {
     "name": "stdout",
     "output_type": "stream",
     "text": [
      "A minha taxa de acerto é: 66.67\n"
     ]
    }
   ],
   "source": [
    "total = len(teste_x)\n",
    "taxa_de_acerto = corretos / total\n",
    "\n",
    "print('A minha taxa de acerto é: %.2f' % (taxa_de_acerto * 100))"
   ]
  },
  {
   "cell_type": "code",
   "execution_count": 54,
   "id": "93a4fac9",
   "metadata": {},
   "outputs": [],
   "source": [
    "from sklearn.metrics import accuracy_score"
   ]
  },
  {
   "cell_type": "code",
   "execution_count": 57,
   "id": "971c437b",
   "metadata": {},
   "outputs": [
    {
     "name": "stdout",
     "output_type": "stream",
     "text": [
      "Taxa de acerto: 66.67\n"
     ]
    }
   ],
   "source": [
    "taxa_de_acerto = accuracy_score(teste_y, previsoes)\n",
    "print('Taxa de acerto: %.2f' % (taxa_de_acerto * 100))"
   ]
  },
  {
   "cell_type": "code",
   "execution_count": null,
   "id": "9cce59db",
   "metadata": {},
   "outputs": [],
   "source": []
  }
 ],
 "metadata": {
  "kernelspec": {
   "display_name": "Python 3 (ipykernel)",
   "language": "python",
   "name": "python3"
  },
  "language_info": {
   "codemirror_mode": {
    "name": "ipython",
    "version": 3
   },
   "file_extension": ".py",
   "mimetype": "text/x-python",
   "name": "python",
   "nbconvert_exporter": "python",
   "pygments_lexer": "ipython3",
   "version": "3.9.12"
  }
 },
 "nbformat": 4,
 "nbformat_minor": 5
}

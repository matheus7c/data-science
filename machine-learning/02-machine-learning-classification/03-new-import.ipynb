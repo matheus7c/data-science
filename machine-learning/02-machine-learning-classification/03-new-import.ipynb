{
 "cells": [
  {
   "cell_type": "code",
   "execution_count": 5,
   "id": "ace13997",
   "metadata": {},
   "outputs": [
    {
     "data": {
      "text/html": [
       "<div>\n",
       "<style scoped>\n",
       "    .dataframe tbody tr th:only-of-type {\n",
       "        vertical-align: middle;\n",
       "    }\n",
       "\n",
       "    .dataframe tbody tr th {\n",
       "        vertical-align: top;\n",
       "    }\n",
       "\n",
       "    .dataframe thead th {\n",
       "        text-align: right;\n",
       "    }\n",
       "</style>\n",
       "<table border=\"1\" class=\"dataframe\">\n",
       "  <thead>\n",
       "    <tr style=\"text-align: right;\">\n",
       "      <th></th>\n",
       "      <th>home</th>\n",
       "      <th>busca</th>\n",
       "      <th>logado</th>\n",
       "      <th>comprou</th>\n",
       "    </tr>\n",
       "  </thead>\n",
       "  <tbody>\n",
       "    <tr>\n",
       "      <th>0</th>\n",
       "      <td>0</td>\n",
       "      <td>algoritmos</td>\n",
       "      <td>1</td>\n",
       "      <td>1</td>\n",
       "    </tr>\n",
       "    <tr>\n",
       "      <th>1</th>\n",
       "      <td>0</td>\n",
       "      <td>java</td>\n",
       "      <td>0</td>\n",
       "      <td>1</td>\n",
       "    </tr>\n",
       "    <tr>\n",
       "      <th>2</th>\n",
       "      <td>1</td>\n",
       "      <td>algoritmos</td>\n",
       "      <td>0</td>\n",
       "      <td>1</td>\n",
       "    </tr>\n",
       "    <tr>\n",
       "      <th>3</th>\n",
       "      <td>1</td>\n",
       "      <td>ruby</td>\n",
       "      <td>1</td>\n",
       "      <td>0</td>\n",
       "    </tr>\n",
       "    <tr>\n",
       "      <th>4</th>\n",
       "      <td>1</td>\n",
       "      <td>ruby</td>\n",
       "      <td>0</td>\n",
       "      <td>1</td>\n",
       "    </tr>\n",
       "  </tbody>\n",
       "</table>\n",
       "</div>"
      ],
      "text/plain": [
       "   home       busca  logado  comprou\n",
       "0     0  algoritmos       1        1\n",
       "1     0        java       0        1\n",
       "2     1  algoritmos       0        1\n",
       "3     1        ruby       1        0\n",
       "4     1        ruby       0        1"
      ]
     },
     "execution_count": 5,
     "metadata": {},
     "output_type": "execute_result"
    }
   ],
   "source": [
    "import pandas as pd\n",
    "\n",
    "df = pd.read_csv('busca.csv')\n",
    "df.head()"
   ]
  },
  {
   "cell_type": "code",
   "execution_count": 18,
   "id": "71cfa010",
   "metadata": {},
   "outputs": [
    {
     "name": "stdout",
     "output_type": "stream",
     "text": [
      "     home       busca  logado\n",
      "0       0  algoritmos       1\n",
      "1       0        java       0\n",
      "2       1  algoritmos       0\n",
      "3       1        ruby       1\n",
      "4       1        ruby       0\n",
      "..    ...         ...     ...\n",
      "995     0        ruby       0\n",
      "996     0        ruby       0\n",
      "997     0        java       1\n",
      "998     1  algoritmos       0\n",
      "999     0        ruby       1\n",
      "\n",
      "[1000 rows x 3 columns]\n",
      "0      1\n",
      "1      1\n",
      "2      1\n",
      "3      0\n",
      "4      1\n",
      "      ..\n",
      "995    0\n",
      "996    1\n",
      "997    1\n",
      "998    1\n",
      "999    0\n",
      "Name: comprou, Length: 1000, dtype: int64\n"
     ]
    }
   ],
   "source": [
    "X = df[['home', 'busca', 'logado']]\n",
    "Y = df['comprou']\n",
    "\n",
    "print(X)\n",
    "print(Y)"
   ]
  },
  {
   "cell_type": "code",
   "execution_count": 19,
   "id": "a19cda20",
   "metadata": {},
   "outputs": [
    {
     "name": "stdout",
     "output_type": "stream",
     "text": [
      "     home  logado  busca_algoritmos  busca_java  busca_ruby\n",
      "0       0       1                 1           0           0\n",
      "1       0       0                 0           1           0\n",
      "2       1       0                 1           0           0\n",
      "3       1       1                 0           0           1\n",
      "4       1       0                 0           0           1\n",
      "..    ...     ...               ...         ...         ...\n",
      "995     0       0                 0           0           1\n",
      "996     0       0                 0           0           1\n",
      "997     0       1                 0           1           0\n",
      "998     1       0                 1           0           0\n",
      "999     0       1                 0           0           1\n",
      "\n",
      "[1000 rows x 5 columns]\n"
     ]
    }
   ],
   "source": [
    "Xdummies = pd.get_dummies(X)\n",
    "print(Xdummies)"
   ]
  },
  {
   "cell_type": "code",
   "execution_count": 20,
   "id": "79c7e37b",
   "metadata": {},
   "outputs": [
    {
     "name": "stdout",
     "output_type": "stream",
     "text": [
      "     home  logado  busca_algoritmos  busca_java  busca_ruby\n",
      "0       0       1                 1           0           0\n",
      "1       0       0                 0           1           0\n",
      "2       1       0                 1           0           0\n",
      "3       1       1                 0           0           1\n",
      "4       1       0                 0           0           1\n",
      "..    ...     ...               ...         ...         ...\n",
      "995     0       0                 0           0           1\n",
      "996     0       0                 0           0           1\n",
      "997     0       1                 0           1           0\n",
      "998     1       0                 1           0           0\n",
      "999     0       1                 0           0           1\n",
      "\n",
      "[1000 rows x 5 columns]\n"
     ]
    }
   ],
   "source": [
    "Xdummies = pd.get_dummies(X).astype(int)\n",
    "print(Xdummies)"
   ]
  },
  {
   "cell_type": "code",
   "execution_count": 24,
   "id": "8514cf41",
   "metadata": {},
   "outputs": [
    {
     "name": "stdout",
     "output_type": "stream",
     "text": [
      "     home  logado  busca_algoritmos  busca_java  busca_ruby\n",
      "0       0       1                 1           0           0\n",
      "1       0       0                 0           1           0\n",
      "2       1       0                 1           0           0\n",
      "3       1       1                 0           0           1\n",
      "4       1       0                 0           0           1\n",
      "..    ...     ...               ...         ...         ...\n",
      "995     0       0                 0           0           1\n",
      "996     0       0                 0           0           1\n",
      "997     0       1                 0           1           0\n",
      "998     1       0                 1           0           0\n",
      "999     0       1                 0           0           1\n",
      "\n",
      "[1000 rows x 5 columns]\n",
      "0      1\n",
      "1      1\n",
      "2      1\n",
      "3      0\n",
      "4      1\n",
      "      ..\n",
      "995    0\n",
      "996    1\n",
      "997    1\n",
      "998    1\n",
      "999    0\n",
      "Name: comprou, Length: 1000, dtype: int64\n"
     ]
    }
   ],
   "source": [
    "Xdummies = pd.get_dummies(X)\n",
    "Ydummies = Y\n",
    "\n",
    "print(Xdummies)\n",
    "print(Ydummies)"
   ]
  },
  {
   "cell_type": "code",
   "execution_count": 53,
   "id": "6f60dd9e",
   "metadata": {},
   "outputs": [
    {
     "name": "stdout",
     "output_type": "stream",
     "text": [
      "82.0\n",
      "100\n"
     ]
    }
   ],
   "source": [
    "df = pd.read_csv('busca.csv')\n",
    "\n",
    "X_df = df[['home', 'busca', 'logado']]\n",
    "Y_df = df['comprou']\n",
    " \n",
    "Xdummies_df = pd.get_dummies(X_df).astype(int)\n",
    "Ydummies_df = Y_df\n",
    "\n",
    "X = Xdummies_df.values\n",
    "Y = Ydummies_df.values\n",
    "\n",
    "porcentagem_treino = 0.9\n",
    "\n",
    "tamanho_de_treino = porcentagem_treino * len(Y)\n",
    "tamanho_de_teste = len(Y) - tamanho_de_treino\n",
    "\n",
    "treino_dados = X[:int(tamanho_de_treino)]\n",
    "treino_marcacoes = Y[:int(tamanho_de_treino)]\n",
    "\n",
    "teste_dados = X[int(-tamanho_de_teste):]\n",
    "teste_marcacoes = Y[int(-tamanho_de_teste):]\n",
    "\n",
    "\n",
    "from sklearn.naive_bayes import MultinomialNB\n",
    "modelo = MultinomialNB()\n",
    "modelo.fit(treino_dados, treino_marcacoes)\n",
    "resultado = modelo.predict(teste_dados)\n",
    "\n",
    "diferencas = resultado - teste_marcacoes\n",
    "\n",
    "acertos = [d for d in diferencas if d == 0]\n",
    "total_de_acertos = len(acertos)\n",
    "total_de_elementos = len(teste_dados)\n",
    "\n",
    "taxa_de_acerto = 100.0 * total_de_acertos / total_de_elementos\n",
    "\n",
    "print(taxa_de_acerto)\n",
    "print(total_de_elementos)"
   ]
  },
  {
   "cell_type": "code",
   "execution_count": 62,
   "id": "171e7945",
   "metadata": {},
   "outputs": [
    {
     "name": "stdout",
     "output_type": "stream",
     "text": [
      "Taxa de acerto base: 832\n"
     ]
    }
   ],
   "source": [
    "import pandas as pd\n",
    "df = pd.read_csv('busca.csv')\n",
    "X_df = df[['home', 'busca', 'logado']]\n",
    "Y_df = df['comprou']\n",
    "\n",
    "Xdummies_df = pd.get_dummies(X_df).astype(int)\n",
    "Ydummies_df = Y_df\n",
    "\n",
    "X = Xdummies_df.values\n",
    "Y = Ydummies_df.values\n",
    "\n",
    "# a eficácia do algoritmo que chuta tudo 0 ou 1\n",
    "acerto_de_um = sum(Y)\n",
    "acerto_de_zero = len(Y) - acerto_de_um\n",
    "taxa_de_acerto_base = max(acerto_de_um, acerto_de_zero)\n",
    "\n",
    "print(\"Taxa de acerto base: %d\" % taxa_de_acerto_base)"
   ]
  },
  {
   "cell_type": "code",
   "execution_count": 65,
   "id": "af3e4a01",
   "metadata": {},
   "outputs": [
    {
     "name": "stdout",
     "output_type": "stream",
     "text": [
      "Taxa de acerto base: 83.200000\n"
     ]
    }
   ],
   "source": [
    "# a eficácia do algoritmo que chuta tudo 0 ou 1\n",
    "acerto_de_um = sum(Y)\n",
    "acerto_de_zero = len(Y) - acerto_de_um\n",
    "taxa_de_acerto_base = 100.0 * max(acerto_de_um, acerto_de_zero) / len(Y)\n",
    "print(\"Taxa de acerto base: %f\" % taxa_de_acerto_base)"
   ]
  },
  {
   "cell_type": "code",
   "execution_count": 68,
   "id": "4a93c344",
   "metadata": {},
   "outputs": [
    {
     "name": "stdout",
     "output_type": "stream",
     "text": [
      "Taxa de acerto base: 83.200000\n"
     ]
    }
   ],
   "source": [
    "acerto_de_um = len(Y[Y==1])\n",
    "acerto_de_zero = len(Y[Y==0])\n",
    "taxa_de_acerto_base = 100.0 * max(acerto_de_um, acerto_de_zero) / len(Y)\n",
    "print(\"Taxa de acerto base: %f\" % taxa_de_acerto_base)"
   ]
  },
  {
   "cell_type": "code",
   "execution_count": 74,
   "id": "5204daf1",
   "metadata": {},
   "outputs": [
    {
     "name": "stdout",
     "output_type": "stream",
     "text": [
      "Taxa de acerto base: 0.000000\n"
     ]
    },
    {
     "name": "stderr",
     "output_type": "stream",
     "text": [
      "C:\\Users\\mathe\\AppData\\Local\\Temp\\ipykernel_3192\\2561834841.py:1: FutureWarning: elementwise comparison failed; returning scalar instead, but in the future will perform elementwise comparison\n",
      "  acerto_de_um = len(Y[Y=='sim'])\n",
      "C:\\Users\\mathe\\AppData\\Local\\Temp\\ipykernel_3192\\2561834841.py:2: FutureWarning: elementwise comparison failed; returning scalar instead, but in the future will perform elementwise comparison\n",
      "  acerto_de_zero = len(Y[Y=='nao'])\n"
     ]
    }
   ],
   "source": [
    "acerto_de_um = len(Y[Y=='sim'])\n",
    "acerto_de_zero = len(Y[Y=='nao'])\n",
    "taxa_de_acerto_base = 100.0 * max(acerto_de_um, acerto_de_zero) / len(Y)\n",
    "print(\"Taxa de acerto base: %f\" % taxa_de_acerto_base)"
   ]
  },
  {
   "cell_type": "code",
   "execution_count": 76,
   "id": "f79129d8",
   "metadata": {},
   "outputs": [
    {
     "name": "stdout",
     "output_type": "stream",
     "text": [
      "Taxa de acerto base: 0.000000\n",
      "Taxa de acerto do algoritmo: 82.000000\n",
      "100\n"
     ]
    },
    {
     "name": "stderr",
     "output_type": "stream",
     "text": [
      "C:\\Users\\mathe\\AppData\\Local\\Temp\\ipykernel_3192\\1532479338.py:12: FutureWarning: elementwise comparison failed; returning scalar instead, but in the future will perform elementwise comparison\n",
      "  acerto_de_um = len(Y[Y=='sim'])\n",
      "C:\\Users\\mathe\\AppData\\Local\\Temp\\ipykernel_3192\\1532479338.py:13: FutureWarning: elementwise comparison failed; returning scalar instead, but in the future will perform elementwise comparison\n",
      "  acerto_de_zero = len(Y[Y=='nao'])\n"
     ]
    }
   ],
   "source": [
    "import pandas as pd\n",
    "df = pd.read_csv('busca.csv')\n",
    "X_df = df[['home', 'busca', 'logado']]\n",
    "Y_df = df['comprou']\n",
    "\n",
    "Xdummies_df = pd.get_dummies(X_df)\n",
    "Ydummies_df = Y_df\n",
    "\n",
    "X = Xdummies_df.values\n",
    "Y = Ydummies_df.values\n",
    "\n",
    "acerto_de_um = len(Y[Y=='sim'])\n",
    "acerto_de_zero = len(Y[Y=='nao'])\n",
    "taxa_de_acerto_base = 100.0 * max(acerto_de_um, acerto_de_zero) / len(Y)\n",
    "print(\"Taxa de acerto base: %f\" % taxa_de_acerto_base)\n",
    "\n",
    "porcentagem_treino = 0.9\n",
    "\n",
    "tamanho_de_treino = int(porcentagem_treino * len(Y))\n",
    "tamanho_de_teste = len(Y) - tamanho_de_treino\n",
    "\n",
    "treino_dados = X[:tamanho_de_treino]\n",
    "treino_marcacoes = Y[:tamanho_de_treino]\n",
    "\n",
    "teste_dados = X[-tamanho_de_teste:]\n",
    "teste_marcacoes = Y[-tamanho_de_teste:]\n",
    "\n",
    "from sklearn.naive_bayes import MultinomialNB\n",
    "modelo = MultinomialNB()\n",
    "modelo.fit(treino_dados, treino_marcacoes)\n",
    "\n",
    "resultado = modelo.predict(teste_dados)\n",
    "\n",
    "acertos = resultado == teste_marcacoes\n",
    "\n",
    "total_de_acertos = sum(acertos)\n",
    "total_de_elementos = len(teste_dados)\n",
    "\n",
    "taxa_de_acerto = 100.0 * total_de_acertos / total_de_elementos\n",
    "\n",
    "print(\"Taxa de acerto do algoritmo: %f\" % taxa_de_acerto)\n",
    "print(total_de_elementos)"
   ]
  },
  {
   "cell_type": "code",
   "execution_count": 87,
   "id": "4273a6c6",
   "metadata": {},
   "outputs": [
    {
     "name": "stdout",
     "output_type": "stream",
     "text": [
      "Taxa de acerto base: 83.200000\n"
     ]
    }
   ],
   "source": [
    "from collections import Counter\n",
    "\n",
    "acerto_base = max(Counter(Y).values())\n",
    "taxa_de_acerto_base = 100.0 * acerto_base / len(Y)\n",
    "print(\"Taxa de acerto base: %f\" % taxa_de_acerto_base)"
   ]
  },
  {
   "cell_type": "code",
   "execution_count": 91,
   "id": "80fcafc8",
   "metadata": {},
   "outputs": [
    {
     "name": "stdout",
     "output_type": "stream",
     "text": [
      "Taxa de acerto do algoritmo: 82.000000\n",
      "100\n",
      "Taxa de acerto base: 82.000000\n"
     ]
    }
   ],
   "source": [
    "porcentagem_treino = 0.9\n",
    "\n",
    "tamanho_de_treino = int(porcentagem_treino * len(Y))\n",
    "tamanho_de_teste = len(Y) - tamanho_de_treino\n",
    "\n",
    "treino_dados = X[:tamanho_de_treino]\n",
    "treino_marcacoes = Y[:tamanho_de_treino]\n",
    "\n",
    "teste_dados = X[-tamanho_de_teste:]\n",
    "teste_marcacoes = Y[-tamanho_de_teste:]\n",
    "\n",
    "from sklearn.naive_bayes import MultinomialNB\n",
    "modelo = MultinomialNB()\n",
    "modelo.fit(treino_dados, treino_marcacoes)\n",
    "\n",
    "resultado = modelo.predict(teste_dados)\n",
    "\n",
    "acertos = resultado == teste_marcacoes\n",
    "\n",
    "total_de_acertos = sum(acertos)\n",
    "total_de_elementos = len(teste_dados)\n",
    "\n",
    "taxa_de_acerto = 100.0 * total_de_acertos / total_de_elementos\n",
    "\n",
    "print(\"Taxa de acerto do algoritmo: %f\" % taxa_de_acerto)\n",
    "print(total_de_elementos) \n",
    "\n",
    "acerto_base = max(Counter(teste_marcacoes).values())\n",
    "taxa_de_acerto_base = 100.0 * acerto_base / len(teste_marcacoes)\n",
    "print(\"Taxa de acerto base: %f\" % taxa_de_acerto_base)"
   ]
  },
  {
   "cell_type": "code",
   "execution_count": null,
   "id": "f37ad8ae",
   "metadata": {},
   "outputs": [],
   "source": []
  }
 ],
 "metadata": {
  "kernelspec": {
   "display_name": "Python 3 (ipykernel)",
   "language": "python",
   "name": "python3"
  },
  "language_info": {
   "codemirror_mode": {
    "name": "ipython",
    "version": 3
   },
   "file_extension": ".py",
   "mimetype": "text/x-python",
   "name": "python",
   "nbconvert_exporter": "python",
   "pygments_lexer": "ipython3",
   "version": "3.9.12"
  }
 },
 "nbformat": 4,
 "nbformat_minor": 5
}

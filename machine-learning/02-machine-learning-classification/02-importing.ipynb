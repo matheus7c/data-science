{
 "cells": [
  {
   "cell_type": "code",
   "execution_count": 3,
   "id": "6f1cd9c7",
   "metadata": {},
   "outputs": [
    {
     "data": {
      "text/html": [
       "<div>\n",
       "<style scoped>\n",
       "    .dataframe tbody tr th:only-of-type {\n",
       "        vertical-align: middle;\n",
       "    }\n",
       "\n",
       "    .dataframe tbody tr th {\n",
       "        vertical-align: top;\n",
       "    }\n",
       "\n",
       "    .dataframe thead th {\n",
       "        text-align: right;\n",
       "    }\n",
       "</style>\n",
       "<table border=\"1\" class=\"dataframe\">\n",
       "  <thead>\n",
       "    <tr style=\"text-align: right;\">\n",
       "      <th></th>\n",
       "      <th>acessou_home</th>\n",
       "      <th>acessou_como_funciona</th>\n",
       "      <th>acessou_contato</th>\n",
       "      <th>comprou</th>\n",
       "    </tr>\n",
       "  </thead>\n",
       "  <tbody>\n",
       "    <tr>\n",
       "      <th>0</th>\n",
       "      <td>1</td>\n",
       "      <td>1</td>\n",
       "      <td>0</td>\n",
       "      <td>0</td>\n",
       "    </tr>\n",
       "    <tr>\n",
       "      <th>1</th>\n",
       "      <td>1</td>\n",
       "      <td>1</td>\n",
       "      <td>0</td>\n",
       "      <td>0</td>\n",
       "    </tr>\n",
       "    <tr>\n",
       "      <th>2</th>\n",
       "      <td>1</td>\n",
       "      <td>1</td>\n",
       "      <td>0</td>\n",
       "      <td>0</td>\n",
       "    </tr>\n",
       "    <tr>\n",
       "      <th>3</th>\n",
       "      <td>1</td>\n",
       "      <td>1</td>\n",
       "      <td>0</td>\n",
       "      <td>0</td>\n",
       "    </tr>\n",
       "    <tr>\n",
       "      <th>4</th>\n",
       "      <td>1</td>\n",
       "      <td>1</td>\n",
       "      <td>0</td>\n",
       "      <td>0</td>\n",
       "    </tr>\n",
       "  </tbody>\n",
       "</table>\n",
       "</div>"
      ],
      "text/plain": [
       "   acessou_home  acessou_como_funciona  acessou_contato  comprou\n",
       "0             1                      1                0        0\n",
       "1             1                      1                0        0\n",
       "2             1                      1                0        0\n",
       "3             1                      1                0        0\n",
       "4             1                      1                0        0"
      ]
     },
     "execution_count": 3,
     "metadata": {},
     "output_type": "execute_result"
    }
   ],
   "source": [
    "import pandas as pd\n",
    "\n",
    "arquivo = pd.read_csv('acesso.csv')\n",
    "arquivo.head()"
   ]
  },
  {
   "cell_type": "code",
   "execution_count": 4,
   "id": "9461883f",
   "metadata": {},
   "outputs": [],
   "source": [
    "dados = arquivo[['acessou_home', 'acessou_como_funciona', 'acessou_contato']]\n",
    "marcacoes = arquivo['comprou']"
   ]
  },
  {
   "cell_type": "code",
   "execution_count": 5,
   "id": "b83b00ad",
   "metadata": {},
   "outputs": [
    {
     "data": {
      "text/html": [
       "<div>\n",
       "<style scoped>\n",
       "    .dataframe tbody tr th:only-of-type {\n",
       "        vertical-align: middle;\n",
       "    }\n",
       "\n",
       "    .dataframe tbody tr th {\n",
       "        vertical-align: top;\n",
       "    }\n",
       "\n",
       "    .dataframe thead th {\n",
       "        text-align: right;\n",
       "    }\n",
       "</style>\n",
       "<table border=\"1\" class=\"dataframe\">\n",
       "  <thead>\n",
       "    <tr style=\"text-align: right;\">\n",
       "      <th></th>\n",
       "      <th>acessou_home</th>\n",
       "      <th>acessou_como_funciona</th>\n",
       "      <th>acessou_contato</th>\n",
       "    </tr>\n",
       "  </thead>\n",
       "  <tbody>\n",
       "    <tr>\n",
       "      <th>0</th>\n",
       "      <td>1</td>\n",
       "      <td>1</td>\n",
       "      <td>0</td>\n",
       "    </tr>\n",
       "    <tr>\n",
       "      <th>1</th>\n",
       "      <td>1</td>\n",
       "      <td>1</td>\n",
       "      <td>0</td>\n",
       "    </tr>\n",
       "    <tr>\n",
       "      <th>2</th>\n",
       "      <td>1</td>\n",
       "      <td>1</td>\n",
       "      <td>0</td>\n",
       "    </tr>\n",
       "    <tr>\n",
       "      <th>3</th>\n",
       "      <td>1</td>\n",
       "      <td>1</td>\n",
       "      <td>0</td>\n",
       "    </tr>\n",
       "    <tr>\n",
       "      <th>4</th>\n",
       "      <td>1</td>\n",
       "      <td>1</td>\n",
       "      <td>0</td>\n",
       "    </tr>\n",
       "  </tbody>\n",
       "</table>\n",
       "</div>"
      ],
      "text/plain": [
       "   acessou_home  acessou_como_funciona  acessou_contato\n",
       "0             1                      1                0\n",
       "1             1                      1                0\n",
       "2             1                      1                0\n",
       "3             1                      1                0\n",
       "4             1                      1                0"
      ]
     },
     "execution_count": 5,
     "metadata": {},
     "output_type": "execute_result"
    }
   ],
   "source": [
    "dados.head()"
   ]
  },
  {
   "cell_type": "code",
   "execution_count": 6,
   "id": "e8cb0327",
   "metadata": {},
   "outputs": [
    {
     "data": {
      "text/plain": [
       "0    0\n",
       "1    0\n",
       "2    0\n",
       "3    0\n",
       "4    0\n",
       "Name: comprou, dtype: int64"
      ]
     },
     "execution_count": 6,
     "metadata": {},
     "output_type": "execute_result"
    }
   ],
   "source": [
    "marcacoes.head()"
   ]
  },
  {
   "cell_type": "code",
   "execution_count": 18,
   "id": "9553b527",
   "metadata": {},
   "outputs": [
    {
     "data": {
      "text/plain": [
       "MultinomialNB()"
      ]
     },
     "execution_count": 18,
     "metadata": {},
     "output_type": "execute_result"
    }
   ],
   "source": [
    "from sklearn.naive_bayes import MultinomialNB\n",
    "modelo = MultinomialNB()\n",
    "modelo.fit(dados, marcacoes)"
   ]
  },
  {
   "cell_type": "code",
   "execution_count": 19,
   "id": "ff95f8f2",
   "metadata": {},
   "outputs": [
    {
     "name": "stdout",
     "output_type": "stream",
     "text": [
      "[1]\n"
     ]
    },
    {
     "name": "stderr",
     "output_type": "stream",
     "text": [
      "C:\\Users\\mathe\\anaconda3\\lib\\site-packages\\sklearn\\base.py:450: UserWarning: X does not have valid feature names, but MultinomialNB was fitted with feature names\n",
      "  warnings.warn(\n"
     ]
    }
   ],
   "source": [
    "print(modelo.predict([[1,0,1]]))"
   ]
  },
  {
   "cell_type": "code",
   "execution_count": 21,
   "id": "74c8064e",
   "metadata": {},
   "outputs": [
    {
     "name": "stdout",
     "output_type": "stream",
     "text": [
      "[0 0 0 0 0 1 0 1 0 1 0 1 0 0 0 0 0 0 0 0 0 0 0 0 1 0 0 1 0 0 0 1 0 1 1 1 1\n",
      " 0 0 1 0 0 0 1 0 0 1 1 0 0 0 0 1 0 1 0 1 0 1 0 1 0 0 0 1 0 0 1 1 0 0 0 0 0\n",
      " 0 0 0 0 0 0 0 0 0 1 1 0 0 0 0 1 1 0 0 0 0 0 0 0 0]\n"
     ]
    }
   ],
   "source": [
    "resultado = modelo.predict(dados)\n",
    "print(resultado)"
   ]
  },
  {
   "cell_type": "code",
   "execution_count": 22,
   "id": "15118058",
   "metadata": {},
   "outputs": [
    {
     "name": "stdout",
     "output_type": "stream",
     "text": [
      "0     0\n",
      "1     0\n",
      "2     0\n",
      "3     0\n",
      "4     0\n",
      "     ..\n",
      "94    0\n",
      "95    1\n",
      "96    0\n",
      "97    0\n",
      "98    0\n",
      "Name: comprou, Length: 99, dtype: int64\n"
     ]
    }
   ],
   "source": [
    "print(marcacoes)"
   ]
  },
  {
   "cell_type": "code",
   "execution_count": 24,
   "id": "37610d75",
   "metadata": {},
   "outputs": [
    {
     "name": "stdout",
     "output_type": "stream",
     "text": [
      "93.93939393939394\n",
      "99\n"
     ]
    }
   ],
   "source": [
    "diferencas = resultado - marcacoes\n",
    "\n",
    "acertos = [d for d in diferencas if d == 0]\n",
    "total_de_acertos = len(acertos)\n",
    "total_de_elementos = len(dados)\n",
    "\n",
    "taxa_de_acerto = 100.0 * total_de_acertos / total_de_elementos\n",
    "\n",
    "print(taxa_de_acerto)\n",
    "print(total_de_elementos)"
   ]
  },
  {
   "cell_type": "markdown",
   "id": "8727da4a",
   "metadata": {},
   "source": [
    "# With just 50% of data"
   ]
  },
  {
   "cell_type": "code",
   "execution_count": 28,
   "id": "e1eadf20",
   "metadata": {},
   "outputs": [
    {
     "name": "stdout",
     "output_type": "stream",
     "text": [
      "8.080808080808081\n",
      "99\n"
     ]
    }
   ],
   "source": [
    "treino_dados = dados[:90]\n",
    "treino_marcacoes = marcacoes[:90]\n",
    "\n",
    "teste_dados = dados[-9:]\n",
    "teste_marcacoes = marcacoes[-9:]\n",
    "\n",
    "len(teste_dados) \n",
    "len(teste_marcacoes)\n",
    "\n",
    "resultado = modelo.predict(teste_dados)\n",
    "\n",
    "diferencas = resultado - teste_marcacoes\n",
    "\n",
    "acertos = [d for d in diferencas if d == 0]\n",
    "total_de_acertos = len(acertos)\n",
    "total_de_elementos = len(dados)\n",
    "\n",
    "taxa_de_acerto = 100.0 * total_de_acertos / total_de_elementos\n",
    "\n",
    "print(taxa_de_acerto)\n",
    "print(total_de_elementos)"
   ]
  },
  {
   "cell_type": "code",
   "execution_count": null,
   "id": "7d4753ce",
   "metadata": {},
   "outputs": [],
   "source": []
  }
 ],
 "metadata": {
  "kernelspec": {
   "display_name": "Python 3 (ipykernel)",
   "language": "python",
   "name": "python3"
  },
  "language_info": {
   "codemirror_mode": {
    "name": "ipython",
    "version": 3
   },
   "file_extension": ".py",
   "mimetype": "text/x-python",
   "name": "python",
   "nbconvert_exporter": "python",
   "pygments_lexer": "ipython3",
   "version": "3.9.12"
  }
 },
 "nbformat": 4,
 "nbformat_minor": 5
}

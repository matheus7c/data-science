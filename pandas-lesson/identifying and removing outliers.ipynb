{
 "cells": [
  {
   "cell_type": "markdown",
   "id": "d57b071f",
   "metadata": {},
   "source": [
    "# Report VIII"
   ]
  },
  {
   "cell_type": "markdown",
   "id": "5f4c427a",
   "metadata": {},
   "source": [
    "## Identifying and removing outliers"
   ]
  },
  {
   "cell_type": "code",
   "execution_count": 34,
   "id": "90e5de37",
   "metadata": {},
   "outputs": [],
   "source": [
    "%matplotlib inline\n",
    "import pandas as pd\n",
    "import matplotlib.pyplot as plt\n",
    "plt.rc('figure', figsize = (14,6))"
   ]
  },
  {
   "cell_type": "code",
   "execution_count": 35,
   "id": "6390b8a5",
   "metadata": {},
   "outputs": [],
   "source": [
    "dados = pd.read_csv('data/aluguel_tratado.csv', sep = ';')"
   ]
  },
  {
   "cell_type": "code",
   "execution_count": 36,
   "id": "48fba214",
   "metadata": {},
   "outputs": [
    {
     "data": {
      "text/plain": [
       "<AxesSubplot:>"
      ]
     },
     "execution_count": 36,
     "metadata": {},
     "output_type": "execute_result"
    },
    {
     "data": {
      "image/png": "[encoded data removed]",
      "text/plain": [
       "<Figure size 1008x432 with 1 Axes>"
      ]
     },
     "metadata": {
      "needs_background": "light"
     },
     "output_type": "display_data"
    }
   ],
   "source": [
    "dados.boxplot(['Valor'])"
   ]
  },
  {
   "cell_type": "code",
   "execution_count": 37,
   "id": "c4411dde",
   "metadata": {},
   "outputs": [
    {
     "data": {
      "text/html": [
       "<div>\n",
       "<style scoped>\n",
       "    .dataframe tbody tr th:only-of-type {\n",
       "        vertical-align: middle;\n",
       "    }\n",
       "\n",
       "    .dataframe tbody tr th {\n",
       "        vertical-align: top;\n",
       "    }\n",
       "\n",
       "    .dataframe thead th {\n",
       "        text-align: right;\n",
       "    }\n",
       "</style>\n",
       "<table border=\"1\" class=\"dataframe\">\n",
       "  <thead>\n",
       "    <tr style=\"text-align: right;\">\n",
       "      <th></th>\n",
       "      <th>Tipo</th>\n",
       "      <th>Bairro</th>\n",
       "      <th>Quartos</th>\n",
       "      <th>Vagas</th>\n",
       "      <th>Suites</th>\n",
       "      <th>Area</th>\n",
       "      <th>Valor</th>\n",
       "      <th>Condominio</th>\n",
       "      <th>IPTU</th>\n",
       "    </tr>\n",
       "  </thead>\n",
       "  <tbody>\n",
       "    <tr>\n",
       "      <th>810</th>\n",
       "      <td>Conjunto Comercial/Sala</td>\n",
       "      <td>Barra da Tijuca</td>\n",
       "      <td>0</td>\n",
       "      <td>0</td>\n",
       "      <td>0</td>\n",
       "      <td>5124</td>\n",
       "      <td>614000.0</td>\n",
       "      <td>0.0</td>\n",
       "      <td>0.0</td>\n",
       "    </tr>\n",
       "    <tr>\n",
       "      <th>866</th>\n",
       "      <td>Conjunto Comercial/Sala</td>\n",
       "      <td>Botafogo</td>\n",
       "      <td>0</td>\n",
       "      <td>56</td>\n",
       "      <td>0</td>\n",
       "      <td>4235</td>\n",
       "      <td>529375.0</td>\n",
       "      <td>114599.0</td>\n",
       "      <td>34345.0</td>\n",
       "    </tr>\n",
       "    <tr>\n",
       "      <th>1142</th>\n",
       "      <td>Conjunto Comercial/Sala</td>\n",
       "      <td>Cidade Nova</td>\n",
       "      <td>0</td>\n",
       "      <td>47</td>\n",
       "      <td>0</td>\n",
       "      <td>7357</td>\n",
       "      <td>514990.0</td>\n",
       "      <td>166709.0</td>\n",
       "      <td>14787.0</td>\n",
       "    </tr>\n",
       "    <tr>\n",
       "      <th>2666</th>\n",
       "      <td>Conjunto Comercial/Sala</td>\n",
       "      <td>Centro</td>\n",
       "      <td>0</td>\n",
       "      <td>15</td>\n",
       "      <td>0</td>\n",
       "      <td>5666</td>\n",
       "      <td>530000.0</td>\n",
       "      <td>1.0</td>\n",
       "      <td>1.0</td>\n",
       "    </tr>\n",
       "    <tr>\n",
       "      <th>2931</th>\n",
       "      <td>Prédio Inteiro</td>\n",
       "      <td>Barra da Tijuca</td>\n",
       "      <td>0</td>\n",
       "      <td>40</td>\n",
       "      <td>0</td>\n",
       "      <td>7500</td>\n",
       "      <td>600000.0</td>\n",
       "      <td>162000.0</td>\n",
       "      <td>13350.0</td>\n",
       "    </tr>\n",
       "    <tr>\n",
       "      <th>4499</th>\n",
       "      <td>Galpão/Depósito/Armazém</td>\n",
       "      <td>Irajá</td>\n",
       "      <td>0</td>\n",
       "      <td>5</td>\n",
       "      <td>0</td>\n",
       "      <td>1100</td>\n",
       "      <td>15000000.0</td>\n",
       "      <td>0.0</td>\n",
       "      <td>1000.0</td>\n",
       "    </tr>\n",
       "    <tr>\n",
       "      <th>4532</th>\n",
       "      <td>Prédio Inteiro</td>\n",
       "      <td>Centro</td>\n",
       "      <td>0</td>\n",
       "      <td>0</td>\n",
       "      <td>0</td>\n",
       "      <td>6986</td>\n",
       "      <td>560000.0</td>\n",
       "      <td>0.0</td>\n",
       "      <td>0.0</td>\n",
       "    </tr>\n",
       "    <tr>\n",
       "      <th>5448</th>\n",
       "      <td>Conjunto Comercial/Sala</td>\n",
       "      <td>Centro</td>\n",
       "      <td>0</td>\n",
       "      <td>30</td>\n",
       "      <td>0</td>\n",
       "      <td>4940</td>\n",
       "      <td>612550.0</td>\n",
       "      <td>128440.0</td>\n",
       "      <td>0.0</td>\n",
       "    </tr>\n",
       "    <tr>\n",
       "      <th>5474</th>\n",
       "      <td>Prédio Inteiro</td>\n",
       "      <td>Jacarepaguá</td>\n",
       "      <td>0</td>\n",
       "      <td>15</td>\n",
       "      <td>0</td>\n",
       "      <td>1200</td>\n",
       "      <td>120000000.0</td>\n",
       "      <td>0.0</td>\n",
       "      <td>10000.0</td>\n",
       "    </tr>\n",
       "    <tr>\n",
       "      <th>7889</th>\n",
       "      <td>Prédio Inteiro</td>\n",
       "      <td>Centro</td>\n",
       "      <td>0</td>\n",
       "      <td>90</td>\n",
       "      <td>0</td>\n",
       "      <td>7774</td>\n",
       "      <td>505310.0</td>\n",
       "      <td>0.0</td>\n",
       "      <td>0.0</td>\n",
       "    </tr>\n",
       "  </tbody>\n",
       "</table>\n",
       "</div>"
      ],
      "text/plain": [
       "                         Tipo           Bairro  Quartos  Vagas  Suites  Area  \\\n",
       "810   Conjunto Comercial/Sala  Barra da Tijuca        0      0       0  5124   \n",
       "866   Conjunto Comercial/Sala         Botafogo        0     56       0  4235   \n",
       "1142  Conjunto Comercial/Sala      Cidade Nova        0     47       0  7357   \n",
       "2666  Conjunto Comercial/Sala           Centro        0     15       0  5666   \n",
       "2931           Prédio Inteiro  Barra da Tijuca        0     40       0  7500   \n",
       "4499  Galpão/Depósito/Armazém            Irajá        0      5       0  1100   \n",
       "4532           Prédio Inteiro           Centro        0      0       0  6986   \n",
       "5448  Conjunto Comercial/Sala           Centro        0     30       0  4940   \n",
       "5474           Prédio Inteiro      Jacarepaguá        0     15       0  1200   \n",
       "7889           Prédio Inteiro           Centro        0     90       0  7774   \n",
       "\n",
       "            Valor  Condominio     IPTU  \n",
       "810      614000.0         0.0      0.0  \n",
       "866      529375.0    114599.0  34345.0  \n",
       "1142     514990.0    166709.0  14787.0  \n",
       "2666     530000.0         1.0      1.0  \n",
       "2931     600000.0    162000.0  13350.0  \n",
       "4499   15000000.0         0.0   1000.0  \n",
       "4532     560000.0         0.0      0.0  \n",
       "5448     612550.0    128440.0      0.0  \n",
       "5474  120000000.0         0.0  10000.0  \n",
       "7889     505310.0         0.0      0.0  "
      ]
     },
     "execution_count": 37,
     "metadata": {},
     "output_type": "execute_result"
    }
   ],
   "source": [
    "dados[dados.Valor >= 500000].head(10)"
   ]
  },
  {
   "cell_type": "code",
   "execution_count": 38,
   "id": "18343494",
   "metadata": {},
   "outputs": [],
   "source": [
    "valor = dados.Valor"
   ]
  },
  {
   "cell_type": "markdown",
   "id": "6f0c1a99",
   "metadata": {},
   "source": [
    "<img src='compressed_box-plot.png' width=70%>"
   ]
  },
  {
   "cell_type": "code",
   "execution_count": 39,
   "id": "d2411f10",
   "metadata": {},
   "outputs": [],
   "source": [
    "Q1 = valor.quantile(.25)\n",
    "Q3 = valor.quantile(.75)\n",
    "IIQ = Q3 - Q1\n",
    "limite_inferior = Q1 - 1.5 * IIQ\n",
    "limite_superior = Q3 + 1.5 * IIQ"
   ]
  },
  {
   "cell_type": "code",
   "execution_count": 40,
   "id": "5599d684",
   "metadata": {},
   "outputs": [],
   "source": [
    "selecao = (valor >= limite_inferior) & (valor <= limite_superior)\n",
    "dados_new = dados[selecao]"
   ]
  },
  {
   "cell_type": "code",
   "execution_count": 41,
   "id": "689c4f68",
   "metadata": {},
   "outputs": [
    {
     "data": {
      "text/plain": [
       "<AxesSubplot:>"
      ]
     },
     "execution_count": 41,
     "metadata": {},
     "output_type": "execute_result"
    },
    {
     "data": {
      "image/png": "[encoded data removed]",
      "text/plain": [
       "<Figure size 1008x432 with 1 Axes>"
      ]
     },
     "metadata": {
      "needs_background": "light"
     },
     "output_type": "display_data"
    }
   ],
   "source": [
    "dados_new.boxplot(['Valor'])"
   ]
  },
  {
   "cell_type": "code",
   "execution_count": 42,
   "id": "e32599e6",
   "metadata": {},
   "outputs": [
    {
     "data": {
      "text/plain": [
       "array([[<AxesSubplot:title={'center':'Valor'}>]], dtype=object)"
      ]
     },
     "execution_count": 42,
     "metadata": {},
     "output_type": "execute_result"
    },
    {
     "data": {
      "image/png": "[encoded data removed]",
      "text/plain": [
       "<Figure size 1008x432 with 1 Axes>"
      ]
     },
     "metadata": {
      "needs_background": "light"
     },
     "output_type": "display_data"
    },
    {
     "data": {
      "image/png": "[encoded data removed]",
      "text/plain": [
       "<Figure size 1008x432 with 1 Axes>"
      ]
     },
     "metadata": {
      "needs_background": "light"
     },
     "output_type": "display_data"
    }
   ],
   "source": [
    "dados.hist(['Valor'])\n",
    "dados_new.hist(['Valor'])"
   ]
  },
  {
   "cell_type": "markdown",
   "id": "428a3b61",
   "metadata": {},
   "source": [
    "## Continue"
   ]
  },
  {
   "cell_type": "code",
   "execution_count": 43,
   "id": "69ba39eb",
   "metadata": {},
   "outputs": [
    {
     "data": {
      "text/plain": [
       "<AxesSubplot:title={'center':'Valor'}, xlabel='[Tipo]'>"
      ]
     },
     "execution_count": 43,
     "metadata": {},
     "output_type": "execute_result"
    },
    {
     "data": {
      "image/png": "[encoded data removed]",
      "text/plain": [
       "<Figure size 1008x432 with 1 Axes>"
      ]
     },
     "metadata": {
      "needs_background": "light"
     },
     "output_type": "display_data"
    }
   ],
   "source": [
    "dados.boxplot(['Valor'], by = ['Tipo'])"
   ]
  },
  {
   "cell_type": "code",
   "execution_count": 47,
   "id": "a0bb5838",
   "metadata": {},
   "outputs": [],
   "source": [
    "grupo_tipo = dados.groupby('Tipo')['Valor']"
   ]
  },
  {
   "cell_type": "code",
   "execution_count": 48,
   "id": "b82b0eae",
   "metadata": {},
   "outputs": [
    {
     "data": {
      "text/plain": [
       "pandas.core.groupby.generic.SeriesGroupBy"
      ]
     },
     "execution_count": 48,
     "metadata": {},
     "output_type": "execute_result"
    }
   ],
   "source": [
    "type(grupo_tipo)"
   ]
  },
  {
   "cell_type": "code",
   "execution_count": 49,
   "id": "ea5efe95",
   "metadata": {},
   "outputs": [
    {
     "data": {
      "text/plain": [
       "{'Apartamento': [3, 4, 5, 9, 10, 11, 13, 17, 18, 19, 21, 22, 25, 26, 28, 30, 31, 32, 34, 35, 38, 39, 41, 42, 45, 46, 47, 48, 49, 52, 53, 54, 55, 58, 60, 61, 62, 63, 64, 65, 66, 68, 69, 71, 73, 74, 85, 86, 87, 88, 89, 90, 91, 92, 93, 94, 95, 96, 98, 99, 101, 103, 104, 106, 108, 110, 114, 115, 117, 118, 120, 121, 122, 127, 128, 129, 130, 131, 133, 135, 136, 137, 143, 144, 148, 149, 150, 154, 156, 158, 159, 160, 161, 162, 165, 168, 172, 174, 175, 177, ...], 'Box/Garagem': [201, 363, 568, 867, 993, 1606, 1633, 1815, 1908, 2453, 3020, 3398, 3513, 3531, 3706, 3782, 3882, 3922, 4188, 5759, 5990, 6625, 7017, 7285, 7758, 9034, 9103, 9121, 9508, 10071, 10230, 11225, 11782, 11843, 11950, 12470, 12490, 12947, 13570, 13651, 14763, 15264, 15889, 16133, 17012, 17226, 17675, 18350, 18671, 19138, 19584, 19828, 20326, 20776, 20858, 21190, 21829, 21841, 22042, 23410, 23906, 24230, 24496, 24628, 24802, 25046, 25734, 26135, 26204, 27029, 28012, 28028, 28029, 28262, 28760, 29379, 29561, 30150, 30454, 30914, 31867, 32192], 'Casa': [1, 29, 72, 79, 134, 138, 210, 230, 261, 347, 362, 368, 390, 422, 457, 466, 496, 505, 527, 560, 567, 591, 623, 634, 691, 692, 704, 750, 792, 793, 828, 835, 839, 911, 916, 926, 938, 939, 981, 1001, 1035, 1064, 1072, 1122, 1134, 1148, 1263, 1284, 1382, 1445, 1507, 1517, 1625, 1630, 1634, 1680, 1708, 1825, 1838, 1924, 1950, 1975, 2013, 2078, 2099, 2104, 2125, 2133, 2178, 2181, 2199, 2340, 2365, 2443, 2454, 2459, 2469, 2486, 2518, 2527, 2589, 2661, 2707, 2774, 2817, 2851, 2864, 2890, 2985, 3011, 3041, 3069, 3106, 3115, 3117, 3150, 3203, 3245, 3250, 3261, ...], 'Casa Comercial': [80, 198, 278, 479, 656, 712, 813, 834, 912, 945, 1119, 1138, 1206, 1317, 1319, 1324, 1413, 1527, 1728, 1893, 2028, 2055, 2114, 2213, 2235, 2593, 2872, 3199, 3687, 3728, 3767, 3849, 3864, 3933, 3978, 4191, 4293, 4397, 4631, 4643, 4665, 4794, 4897, 4989, 4992, 5005, 5017, 5341, 5745, 5828, 5925, 5997, 6016, 6672, 6786, 7075, 7111, 7197, 7318, 7357, 7393, 7494, 7526, 7587, 7816, 7894, 7898, 7900, 7997, 8036, 8242, 8417, 8532, 8550, 8647, 8850, 8871, 8971, 8983, 9036, 9224, 9237, 9311, 9388, 9579, 9581, 9701, 9702, 9735, 9926, 9947, 10122, 10159, 10284, 10360, 10677, 10726, 10892, 11022, 11038, ...], 'Casa de Condomínio': [6, 7, 16, 20, 57, 82, 242, 247, 264, 296, 317, 357, 380, 391, 412, 429, 454, 501, 575, 593, 644, 651, 655, 741, 806, 898, 917, 976, 984, 998, 1045, 1071, 1149, 1193, 1195, 1270, 1299, 1304, 1379, 1412, 1418, 1441, 1450, 1456, 1471, 1477, 1506, 1577, 1595, 1616, 1640, 1670, 1681, 1713, 1778, 1789, 1793, 1809, 1818, 1911, 1918, 1928, 1962, 1988, 2064, 2120, 2121, 2168, 2210, 2260, 2298, 2334, 2360, 2378, 2429, 2522, 2536, 2545, 2583, 2592, 2604, 2650, 2745, 2781, 2784, 2809, 2860, 3002, 3005, 3063, 3180, 3201, 3244, 3286, 3318, 3320, 3432, 3438, 3473, 3496, ...], 'Casa de Vila': [113, 302, 314, 448, 493, 1031, 1215, 1247, 1352, 1485, 1980, 1996, 2136, 2204, 2290, 2415, 2467, 2512, 2601, 3088, 3322, 3347, 3613, 3760, 3780, 3884, 3942, 4077, 4252, 4301, 4447, 4456, 4507, 4523, 4929, 5124, 5270, 5560, 5731, 5778, 5781, 5790, 6148, 6223, 6239, 6255, 6496, 6652, 7219, 7716, 7748, 7759, 7800, 7941, 8125, 8312, 8406, 8607, 8644, 8895, 8941, 9022, 9046, 9072, 9101, 9340, 9394, 9485, 9552, 9634, 9672, 10157, 10217, 10423, 10451, 10553, 10640, 10728, 10964, 11545, 11567, 11667, 11752, 11762, 11945, 11997, 12185, 12611, 12643, 12814, 13756, 13765, 13878, 14113, 14322, 14329, 14468, 14501, 14570, 14687, ...], 'Chácara': [2117], 'Conjunto Comercial/Sala': [2, 8, 24, 33, 36, 40, 43, 44, 50, 51, 59, 67, 70, 75, 76, 78, 83, 84, 102, 105, 109, 111, 112, 123, 124, 125, 126, 132, 140, 141, 142, 146, 147, 151, 152, 153, 157, 163, 164, 166, 169, 170, 173, 176, 181, 187, 188, 211, 213, 216, 226, 232, 233, 234, 235, 236, 238, 246, 249, 269, 273, 277, 297, 309, 311, 318, 320, 321, 323, 327, 328, 330, 333, 342, 346, 350, 358, 364, 366, 369, 370, 372, 373, 377, 379, 382, 383, 384, 385, 389, 393, 399, 406, 411, 413, 416, 423, 426, 434, 441, ...], 'Flat': [15, 23, 204, 205, 279, 392, 658, 771, 827, 1067, 1135, 1153, 1271, 1322, 1326, 1487, 1514, 1554, 1589, 1612, 1734, 1757, 1848, 1984, 1999, 2061, 2068, 2077, 2123, 2203, 2362, 2405, 2464, 2494, 2579, 2624, 2641, 2655, 2747, 2845, 3070, 3264, 3296, 3370, 3424, 3447, 3643, 3644, 3710, 3745, 3769, 3820, 3948, 3962, 3992, 4011, 4057, 4099, 4125, 4172, 4235, 4259, 4344, 4467, 4538, 4577, 4585, 4606, 4616, 4630, 4654, 4685, 4720, 4758, 4812, 4880, 4923, 4944, 5072, 5347, 5398, 5411, 5435, 5567, 5614, 5747, 5792, 5817, 5920, 5922, 6001, 6168, 6365, 6464, 6502, 6510, 6531, 6541, 6790, 6826, ...], 'Galpão/Depósito/Armazém': [77, 81, 116, 145, 308, 316, 340, 343, 418, 483, 524, 621, 679, 708, 710, 720, 819, 822, 869, 937, 943, 963, 1082, 1101, 1110, 1224, 1358, 1417, 1429, 1490, 1617, 1643, 1645, 1662, 1667, 1678, 1705, 1771, 1875, 1904, 1930, 1956, 1959, 2005, 2076, 2130, 2244, 2266, 2280, 2418, 2460, 2648, 2694, 2748, 2759, 2794, 2855, 2875, 2969, 2976, 3032, 3035, 3038, 3057, 3299, 3300, 3321, 3362, 3367, 3380, 3386, 3445, 3535, 3539, 3655, 3670, 3752, 3757, 3811, 3895, 3915, 3921, 3968, 4205, 4218, 4327, 4329, 4373, 4381, 4442, 4484, 4492, 4499, 4515, 4539, 4545, 4706, 4743, 4749, 4864, ...], 'Hotel': [9470, 26347], 'Indústria': [23072], 'Loft': [337, 832, 1281, 2949, 3198, 4227, 4741, 4783, 5142, 5913, 7013, 7094, 7497, 7923, 8868, 9331, 9748, 9837, 10487, 11290, 11309, 11448, 12283, 12290, 12492, 14116, 16703, 16830, 17001, 17138, 17478, 18129, 19328, 19425, 20700, 20719, 21150, 21430, 21884, 22811, 23042, 25101, 26478, 26484, 26736, 26879, 28820, 29071, 29766, 29804, 31736], 'Loja Shopping/ Ct Comercial': [578, 583, 595, 607, 668, 865, 874, 919, 933, 1049, 1463, 1508, 1635, 1706, 1720, 1731, 1883, 1992, 2012, 2139, 2150, 2391, 2426, 2489, 2599, 2649, 2724, 2898, 2996, 3236, 3279, 3302, 3310, 3589, 3610, 3750, 3824, 3855, 4085, 4225, 4457, 4595, 4894, 5333, 5570, 5578, 5740, 5764, 5857, 5927, 5953, 5958, 6232, 6240, 6521, 6795, 6855, 6917, 7050, 7196, 7212, 7241, 7323, 7412, 7553, 7563, 7581, 7872, 7966, 8116, 8545, 8864, 8887, 8997, 8999, 9140, 9226, 9427, 9596, 9718, 9755, 9786, 9848, 9852, 10114, 10459, 10565, 10632, 10658, 10667, 11050, 11227, 11636, 11836, 12464, 12587, 12663, 12767, 12965, 12971, ...], 'Loja/Salão': [27, 56, 100, 167, 171, 208, 244, 245, 253, 266, 294, 304, 355, 397, 401, 435, 464, 468, 486, 488, 499, 515, 519, 535, 545, 556, 632, 638, 640, 700, 727, 732, 782, 820, 845, 846, 849, 853, 859, 903, 914, 989, 1030, 1059, 1066, 1068, 1085, 1154, 1163, 1176, 1188, 1202, 1214, 1240, 1242, 1252, 1307, 1309, 1323, 1334, 1359, 1398, 1402, 1481, 1497, 1499, 1513, 1531, 1575, 1581, 1620, 1624, 1631, 1651, 1702, 1718, 1719, 1730, 1790, 1800, 1806, 1834, 1866, 1884, 1905, 1915, 1935, 1947, 1972, 1974, 1991, 2018, 2031, 2060, 2071, 2095, 2096, 2109, 2134, 2155, ...], 'Loteamento/Condomínio': [3283, 14363, 24713, 25200, 25281], 'Pousada/Chalé': [4625], 'Prédio Inteiro': [14, 295, 334, 502, 739, 954, 1377, 1432, 1647, 1786, 2149, 2330, 2439, 2819, 2931, 2961, 3100, 3217, 3410, 3537, 3560, 3641, 3721, 3791, 3896, 3980, 4474, 4532, 4533, 4836, 4902, 5010, 5094, 5186, 5262, 5306, 5312, 5369, 5380, 5474, 5491, 5822, 5881, 5940, 6055, 6212, 6237, 6266, 6416, 6472, 6480, 6542, 6715, 6918, 6951, 7015, 7206, 7439, 7755, 7760, 7889, 7962, 8072, 8117, 8206, 8373, 8383, 8450, 8540, 8555, 8640, 8952, 9024, 9239, 9285, 9353, 9553, 9970, 10228, 10234, 10367, 10398, 10469, 10603, 10682, 10703, 10751, 10759, 10918, 10960, 11068, 11076, 11146, 11298, 11544, 11955, 12091, 12242, 12305, 12312, ...], 'Quitinete': [0, 12, 37, 97, 107, 119, 139, 178, 214, 255, 275, 293, 319, 360, 442, 463, 485, 510, 525, 624, 625, 626, 670, 713, 779, 934, 961, 1008, 1194, 1279, 1351, 1354, 1364, 1369, 1385, 1392, 1430, 1467, 1491, 1528, 1560, 1679, 1696, 1698, 1721, 1737, 1746, 1767, 1774, 1843, 1859, 1948, 1978, 1994, 2045, 2059, 2065, 2190, 2211, 2233, 2275, 2351, 2372, 2375, 2404, 2502, 2503, 2515, 2551, 2580, 2606, 2686, 2715, 2736, 2824, 2977, 3086, 3103, 3142, 3167, 3176, 3184, 3189, 3290, 3307, 3309, 3336, 3354, 3431, 3480, 3518, 3519, 3520, 3541, 3612, 3628, 3634, 3686, 3711, 3920, ...], 'Studio': [6833, 8120, 14718, 27523], 'Sítio': [4288, 4333, 10623, 18359, 20327, 24076, 26246, 26431, 26546, 29427], 'Terreno Padrão': [155, 540, 1340, 1475, 1692, 1973, 2703, 2880, 3349, 3853, 3931, 4274, 4280, 4298, 4738, 5549, 6065, 6549, 6959, 7054, 7781, 7853, 8272, 8289, 9507, 10013, 10182, 10257, 11378, 11534, 11663, 11732, 12722, 12933, 13079, 13481, 13889, 13970, 14138, 14913, 15128, 15423, 15666, 16656, 16877, 16988, 17933, 18610, 19305, 19625, 19930, 20256, 20331, 20377, 20395, 20669, 22171, 22807, 23351, 23677, 23701, 23821, 24824, 25247, 26715, 27600, 28752, 28946, 29324, 30201]}"
      ]
     },
     "execution_count": 49,
     "metadata": {},
     "output_type": "execute_result"
    }
   ],
   "source": [
    "grupo_tipo.groups"
   ]
  },
  {
   "cell_type": "code",
   "execution_count": 50,
   "id": "19ae87a9",
   "metadata": {},
   "outputs": [],
   "source": [
    "Q1 = grupo_tipo.quantile(.25)\n",
    "Q3 = grupo_tipo.quantile(.75)\n",
    "IIQ = Q3 - Q1\n",
    "limite_inferior = Q1 - 1.5 * IIQ\n",
    "limite_superior = Q3 + 1.5 * IIQ"
   ]
  },
  {
   "cell_type": "code",
   "execution_count": 53,
   "id": "525abec7",
   "metadata": {},
   "outputs": [
    {
     "name": "stdout",
     "output_type": "stream",
     "text": [
      "Tipo\n",
      "Apartamento                      1700.0\n",
      "Box/Garagem                       250.0\n",
      "Casa                             1100.0\n",
      "Casa Comercial                   6000.0\n",
      "Casa de Condomínio               4000.0\n",
      "Casa de Vila                      750.0\n",
      "Chácara                          4900.0\n",
      "Conjunto Comercial/Sala          1000.0\n",
      "Flat                             2500.0\n",
      "Galpão/Depósito/Armazém          7000.0\n",
      "Hotel                           18500.0\n",
      "Indústria                      120000.0\n",
      "Loft                             1750.0\n",
      "Loja Shopping/ Ct Comercial      1500.0\n",
      "Loja/Salão                       2200.0\n",
      "Loteamento/Condomínio           14000.0\n",
      "Pousada/Chalé                    1480.0\n",
      "Prédio Inteiro                  14900.0\n",
      "Quitinete                         900.0\n",
      "Studio                           1500.0\n",
      "Sítio                            9750.0\n",
      "Terreno Padrão                   8000.0\n",
      "Name: Valor, dtype: float64\n",
      "Tipo\n",
      "Apartamento                      5000.0\n",
      "Box/Garagem                       450.0\n",
      "Casa                             9800.0\n",
      "Casa Comercial                  18000.0\n",
      "Casa de Condomínio              15250.0\n",
      "Casa de Vila                     1800.0\n",
      "Chácara                          4900.0\n",
      "Conjunto Comercial/Sala          9950.0\n",
      "Flat                             6000.0\n",
      "Galpão/Depósito/Armazém         27750.0\n",
      "Hotel                           31500.0\n",
      "Indústria                      120000.0\n",
      "Loft                             3000.0\n",
      "Loja Shopping/ Ct Comercial      5500.0\n",
      "Loja/Salão                      12000.0\n",
      "Loteamento/Condomínio           25000.0\n",
      "Pousada/Chalé                    1480.0\n",
      "Prédio Inteiro                  80000.0\n",
      "Quitinete                        1500.0\n",
      "Studio                           2450.0\n",
      "Sítio                           15000.0\n",
      "Terreno Padrão                  40000.0\n",
      "Name: Valor, dtype: float64\n",
      "Tipo\n",
      "Apartamento                     3300.0\n",
      "Box/Garagem                      200.0\n",
      "Casa                            8700.0\n",
      "Casa Comercial                 12000.0\n",
      "Casa de Condomínio             11250.0\n",
      "Casa de Vila                    1050.0\n",
      "Chácara                            0.0\n",
      "Conjunto Comercial/Sala         8950.0\n",
      "Flat                            3500.0\n",
      "Galpão/Depósito/Armazém        20750.0\n",
      "Hotel                          13000.0\n",
      "Indústria                          0.0\n",
      "Loft                            1250.0\n",
      "Loja Shopping/ Ct Comercial     4000.0\n",
      "Loja/Salão                      9800.0\n",
      "Loteamento/Condomínio          11000.0\n",
      "Pousada/Chalé                      0.0\n",
      "Prédio Inteiro                 65100.0\n",
      "Quitinete                        600.0\n",
      "Studio                           950.0\n",
      "Sítio                           5250.0\n",
      "Terreno Padrão                 32000.0\n",
      "Name: Valor, dtype: float64\n",
      "Tipo\n",
      "Apartamento                     -3250.0\n",
      "Box/Garagem                       -50.0\n",
      "Casa                           -11950.0\n",
      "Casa Comercial                 -12000.0\n",
      "Casa de Condomínio             -12875.0\n",
      "Casa de Vila                     -825.0\n",
      "Chácara                          4900.0\n",
      "Conjunto Comercial/Sala        -12425.0\n",
      "Flat                            -2750.0\n",
      "Galpão/Depósito/Armazém        -24125.0\n",
      "Hotel                           -1000.0\n",
      "Indústria                      120000.0\n",
      "Loft                             -125.0\n",
      "Loja Shopping/ Ct Comercial     -4500.0\n",
      "Loja/Salão                     -12500.0\n",
      "Loteamento/Condomínio           -2500.0\n",
      "Pousada/Chalé                    1480.0\n",
      "Prédio Inteiro                 -82750.0\n",
      "Quitinete                           0.0\n",
      "Studio                             75.0\n",
      "Sítio                            1875.0\n",
      "Terreno Padrão                 -40000.0\n",
      "Name: Valor, dtype: float64\n",
      "Tipo\n",
      "Apartamento                      9950.0\n",
      "Box/Garagem                       750.0\n",
      "Casa                            22850.0\n",
      "Casa Comercial                  36000.0\n",
      "Casa de Condomínio              32125.0\n",
      "Casa de Vila                     3375.0\n",
      "Chácara                          4900.0\n",
      "Conjunto Comercial/Sala         23375.0\n",
      "Flat                            11250.0\n",
      "Galpão/Depósito/Armazém         58875.0\n",
      "Hotel                           51000.0\n",
      "Indústria                      120000.0\n",
      "Loft                             4875.0\n",
      "Loja Shopping/ Ct Comercial     11500.0\n",
      "Loja/Salão                      26700.0\n",
      "Loteamento/Condomínio           41500.0\n",
      "Pousada/Chalé                    1480.0\n",
      "Prédio Inteiro                 177650.0\n",
      "Quitinete                        2400.0\n",
      "Studio                           3875.0\n",
      "Sítio                           22875.0\n",
      "Terreno Padrão                  88000.0\n",
      "Name: Valor, dtype: float64\n"
     ]
    }
   ],
   "source": [
    "print(Q1)\n",
    "print(Q3)\n",
    "print(IIQ.round(2))\n",
    "print(limite_inferior.round(2))\n",
    "print(limite_superior)"
   ]
  },
  {
   "cell_type": "code",
   "execution_count": 54,
   "id": "2b96a87d",
   "metadata": {},
   "outputs": [
    {
     "data": {
      "text/plain": [
       "22850.0"
      ]
     },
     "execution_count": 54,
     "metadata": {},
     "output_type": "execute_result"
    }
   ],
   "source": [
    "limite_superior['Casa']"
   ]
  },
  {
   "cell_type": "markdown",
   "id": "4c5410f4",
   "metadata": {},
   "source": [
    "<img src='compressed_box-plot.png' width=70%>"
   ]
  },
  {
   "cell_type": "code",
   "execution_count": 58,
   "id": "3c05b38b",
   "metadata": {},
   "outputs": [],
   "source": [
    "dados_new = pd.DataFrame()\n",
    "for tipo in grupo_tipo.groups.keys():\n",
    "    eh_tipo = dados.Tipo == tipo\n",
    "    eh_dentro_limite = (dados['Valor'] >= limite_inferior[tipo]) & (dados['Valor'] <= limite_superior[tipo])\n",
    "    selecao = eh_tipo & eh_dentro_limite\n",
    "    dados_selecao = dados[selecao]\n",
    "    dados_new = pd.concat([dados_new, dados_selecao])\n",
    "    "
   ]
  },
  {
   "cell_type": "code",
   "execution_count": 60,
   "id": "f0b09e23",
   "metadata": {},
   "outputs": [
    {
     "data": {
      "text/plain": [
       "<AxesSubplot:title={'center':'Valor'}, xlabel='[Tipo]'>"
      ]
     },
     "execution_count": 60,
     "metadata": {},
     "output_type": "execute_result"
    },
    {
     "data": {
      "image/png": "[encoded data removed]",
      "text/plain": [
       "<Figure size 1008x432 with 1 Axes>"
      ]
     },
     "metadata": {
      "needs_background": "light"
     },
     "output_type": "display_data"
    },
    {
     "data": {
      "image/png": "[encoded data removed]",
      "text/plain": [
       "<Figure size 1008x432 with 1 Axes>"
      ]
     },
     "metadata": {
      "needs_background": "light"
     },
     "output_type": "display_data"
    }
   ],
   "source": [
    "dados.boxplot(['Valor'], by = ['Tipo'])\n",
    "dados_new.boxplot(['Valor'], by = ['Tipo'])"
   ]
  },
  {
   "cell_type": "code",
   "execution_count": 62,
   "id": "5bd9195c",
   "metadata": {},
   "outputs": [],
   "source": [
    "dados_new.to_csv('data/aluguel_residencial_sem_outliers.csv', sep = ';', index = False)"
   ]
  },
  {
   "cell_type": "code",
   "execution_count": null,
   "id": "709eeecc",
   "metadata": {},
   "outputs": [],
   "source": []
  }
 ],
 "metadata": {
  "kernelspec": {
   "display_name": "Python 3 (ipykernel)",
   "language": "python",
   "name": "python3"
  },
  "language_info": {
   "codemirror_mode": {
    "name": "ipython",
    "version": 3
   },
   "file_extension": ".py",
   "mimetype": "text/x-python",
   "name": "python",
   "nbconvert_exporter": "python",
   "pygments_lexer": "ipython3",
   "version": "3.9.12"
  }
 },
 "nbformat": 4,
 "nbformat_minor": 5
}
